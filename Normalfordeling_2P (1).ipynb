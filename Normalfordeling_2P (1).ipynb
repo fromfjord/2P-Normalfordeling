{
  "metadata": {
    "kernelspec": {
      "name": "python",
      "display_name": "Python (Pyodide)",
      "language": "python"
    },
    "language_info": {
      "codemirror_mode": {
        "name": "python",
        "version": 3
      },
      "file_extension": ".py",
      "mimetype": "text/x-python",
      "name": "python",
      "nbconvert_exporter": "python",
      "pygments_lexer": "ipython3",
      "version": "3.8"
    }
  },
  "nbformat_minor": 5,
  "nbformat": 4,
  "cells": [
    {
      "id": "b96f4265-c234-4198-aafd-a5bc117873a5",
      "cell_type": "markdown",
      "source": "# Her kan dere sammenlikne deres histogram med en normalfordeling\n\n### Det eneste du trenger å gjøre er å skrive inn teksten og fylle inn listene under.",
      "metadata": {}
    },
    {
      "id": "4f143c0d-fc7c-4208-9e9d-fbe9c8e691d5",
      "cell_type": "markdown",
      "source": "### Her skal du fylle inn tittelen på histogrammet ditt, variabelnavn, og enhet for variabelen. Når du er ferdig, trykker du \"Ctrl + Enter\" på tastaturet ditt for å kjøre koden i cellen.",
      "metadata": {}
    },
    {
      "id": "2d648642-2fc4-4d03-a44d-41d1254c272e",
      "cell_type": "code",
      "source": "import numpy as np\nimport matplotlib.pyplot as plt\n\ntittel = \"Min tittel\" #Endre til en egen tittel. F.eks \"Høyden til 21 elever ved EVG\"\nvariabelnavn = \"Min variabel\" #Endre til navnet på variabelen du måler, med enhet. F.eks \"Høyde\"\nenhet = \"Min enhet\" #Endre til enheten for variabelen. F.eks \"cm\".",
      "metadata": {
        "trusted": true
      },
      "outputs": [],
      "execution_count": null
    },
    {
      "id": "97af5e0a-6f44-4869-8734-4744bce64dcf",
      "cell_type": "markdown",
      "source": "### Her skal du legge inn alle verdiene du har målt mellom de to parentesene []. Husk å skille hver måling med et komma mellom. Når du er ferdig, trykker du \"Ctrl + Enter\" på tastaturet ditt for å kjøre koden i cellen.",
      "metadata": {}
    },
    {
      "id": "0a7de4ce-f52c-4f57-b126-203b59fbaefe",
      "cell_type": "code",
      "source": "målinger = []  #Her skal du legge inn alle målingene du har samlet inn, med komma mellom. F.eks [169, 170, 171, 172, 172, 173, 173, 174, 174, 174, 175, 175, 175, 176, 176, 176, 177, 177, 178, 179, 181]",
      "metadata": {
        "trusted": true
      },
      "outputs": [],
      "execution_count": null
    },
    {
      "id": "7e8877d8-083d-4cd4-8ed7-2d9f7f88f833",
      "cell_type": "markdown",
      "source": "### Her skal du legge inn grensene for klassene dine på samme måte som i cellen over. Når du er ferdig, trykker du \"Ctrl + Enter\" på tastaturet ditt for å kjøre koden i cellen.",
      "metadata": {}
    },
    {
      "id": "f9c79f55-adba-4552-94ee-521049cad3ab",
      "cell_type": "code",
      "source": "klasser = []  #Her skal du legge inn grensene for klassene dine. F.eks [168 , 170 , 172 , 174 , 176, 178, 180, 182]",
      "metadata": {
        "trusted": true
      },
      "outputs": [],
      "execution_count": null
    },
    {
      "id": "d834948b-3565-48d9-8733-03931fa069ab",
      "cell_type": "markdown",
      "source": "### Nå mangler det bare å kjøre koden i cellen under, så får du et ferdig histogram med en tilhørende normalfordelingskurve. Det gjør du ved å klikke deg inn i vinduet og trykke \"Ctrl + Enter\" på tastaturet.",
      "metadata": {}
    },
    {
      "id": "4f41cd99-dae1-4537-8498-be82c322cbb0",
      "cell_type": "code",
      "source": "#Histogram\n\nhistogram = plt.hist(målinger, klasser, density=True, edgecolor='black')\n\n#Normalfordeling\n\ndef normalfordeling(variabel , gjennomsnitt , standardavvik):\n    return 1/(np.sqrt(2*np.pi)*standardavvik)*np.exp(-0.5*(variabel-gjennomsnitt)**2/standardavvik**2)\n\nvariabel = np.linspace(klasser[0],klasser[-1],256)\ngjennomsnitt = np.average(målinger)\nstandardavvik = np.std(målinger)\n\n#Plotting\n\nplt.plot(variabel,normalfordeling(variabel,gjennomsnitt,standardavvik), color='red', label=\"Normalfordelingskurve\")\nplt.title(tittel)\nplt.ylabel(\"Frekvens/tetthet\")\nplt.xlabel(f\"{variabelnavn} ({enhet})\")\nplt.xticks(klasser)\nplt.legend()\nplt.show()\n\nprint(f'Gjennomsnittet er {gjennomsnitt:.1f}{enhet} og standardavviket er {standardavvik:.1f}{enhet}')\n",
      "metadata": {
        "trusted": true
      },
      "outputs": [],
      "execution_count": null
    },
    {
      "id": "e5d9f0ee-6515-48ba-b838-88f805b0796a",
      "cell_type": "markdown",
      "source": "### Den røde linja viser fordelingen av et normalfordelt datasett med samme gjennomsnitt og standardavvik som dataen din. Hva tenker du, ser det ut som dataen din passer inn under normalfordelingskurven eller ikke?",
      "metadata": {}
    }
  ]
}